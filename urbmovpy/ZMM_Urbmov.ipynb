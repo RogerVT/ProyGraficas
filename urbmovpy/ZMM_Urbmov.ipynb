{
 "cells": [
  {
   "cell_type": "code",
   "execution_count": 1,
   "metadata": {},
   "outputs": [],
   "source": [
    "import pandas as pd\n",
    "import pydeck as pdk\n",
    "import datetime\n",
    "import time\n",
    "from ipywidgets import IntSlider, Play, HBox, VBox, HTML, jslink,interactive_output, Layout"
   ]
  },
  {
   "cell_type": "markdown",
   "metadata": {},
   "source": [
    "### Preprocesamiento del dataset\n",
    "\n",
    "El dataset consiste en un conjunto de puntos con coordenadas en latitud y longitud en EPSG = 4326, con una estampa de tiempo en UTC. Cada punto representa una posición en un momento dado de un elemento identificado por el agent_id. Los datos cubren dos semanas, entre el 11 y el 25 de agosto.\n",
    "\n",
    "Antes de pasar los datos a la capa de Deck, es necesario realizar un par de pasos de preprocesamiento:\n",
    "* Pasar el utc_timestamp a una timestamp legible\n",
    "* Concatenar latitud y longitud en un arreglo de coordenadas\n",
    "* Con la finalidad de seleccionar el día con más puntos, se extrae la fecha en una columna separada."
   ]
  },
  {
   "cell_type": "code",
   "execution_count": 2,
   "metadata": {},
   "outputs": [],
   "source": [
    "df = pd.read_csv('./data/traj_data.csv')\n",
    "df['datetime'] = pd.to_datetime(df.utc_timestamp, unit = 's')\n",
    "df['coordinates'] = df[['longitude', 'latitude']].apply(list, axis = 1)\n",
    "df['day'] = df.datetime.dt.day"
   ]
  },
  {
   "cell_type": "code",
   "execution_count": 3,
   "metadata": {},
   "outputs": [
    {
     "data": {
      "text/plain": [
       "array([12, 13, 11, 21, 20, 15, 14, 22, 23, 24, 25, 18, 19, 16, 17])"
      ]
     },
     "execution_count": 3,
     "metadata": {},
     "output_type": "execute_result"
    }
   ],
   "source": [
    "df.day.unique()"
   ]
  },
  {
   "cell_type": "code",
   "execution_count": 4,
   "metadata": {},
   "outputs": [
    {
     "data": {
      "text/html": [
       "<div>\n",
       "<style scoped>\n",
       "    .dataframe tbody tr th:only-of-type {\n",
       "        vertical-align: middle;\n",
       "    }\n",
       "\n",
       "    .dataframe tbody tr th {\n",
       "        vertical-align: top;\n",
       "    }\n",
       "\n",
       "    .dataframe thead th {\n",
       "        text-align: right;\n",
       "    }\n",
       "</style>\n",
       "<table border=\"1\" class=\"dataframe\">\n",
       "  <thead>\n",
       "    <tr style=\"text-align: right;\">\n",
       "      <th></th>\n",
       "      <th>agent_id</th>\n",
       "      <th>latitude</th>\n",
       "      <th>longitude</th>\n",
       "      <th>utc_timestamp</th>\n",
       "      <th>datetime</th>\n",
       "      <th>coordinates</th>\n",
       "      <th>day</th>\n",
       "    </tr>\n",
       "  </thead>\n",
       "  <tbody>\n",
       "    <tr>\n",
       "      <th>0</th>\n",
       "      <td>1</td>\n",
       "      <td>25.688278</td>\n",
       "      <td>-100.321875</td>\n",
       "      <td>1628755047</td>\n",
       "      <td>2021-08-12 07:57:27</td>\n",
       "      <td>[-100.321875, 25.688278]</td>\n",
       "      <td>12</td>\n",
       "    </tr>\n",
       "    <tr>\n",
       "      <th>1</th>\n",
       "      <td>1</td>\n",
       "      <td>25.688347</td>\n",
       "      <td>-100.321910</td>\n",
       "      <td>1628768277</td>\n",
       "      <td>2021-08-12 11:37:57</td>\n",
       "      <td>[-100.32191, 25.688347]</td>\n",
       "      <td>12</td>\n",
       "    </tr>\n",
       "    <tr>\n",
       "      <th>2</th>\n",
       "      <td>1</td>\n",
       "      <td>25.688387</td>\n",
       "      <td>-100.321768</td>\n",
       "      <td>1628834712</td>\n",
       "      <td>2021-08-13 06:05:12</td>\n",
       "      <td>[-100.321768, 25.688387]</td>\n",
       "      <td>13</td>\n",
       "    </tr>\n",
       "    <tr>\n",
       "      <th>3</th>\n",
       "      <td>1</td>\n",
       "      <td>25.688270</td>\n",
       "      <td>-100.321780</td>\n",
       "      <td>1628774508</td>\n",
       "      <td>2021-08-12 13:21:48</td>\n",
       "      <td>[-100.32178, 25.68827]</td>\n",
       "      <td>12</td>\n",
       "    </tr>\n",
       "    <tr>\n",
       "      <th>4</th>\n",
       "      <td>1</td>\n",
       "      <td>25.688337</td>\n",
       "      <td>-100.321895</td>\n",
       "      <td>1628754000</td>\n",
       "      <td>2021-08-12 07:40:00</td>\n",
       "      <td>[-100.321895, 25.688337]</td>\n",
       "      <td>12</td>\n",
       "    </tr>\n",
       "    <tr>\n",
       "      <th>...</th>\n",
       "      <td>...</td>\n",
       "      <td>...</td>\n",
       "      <td>...</td>\n",
       "      <td>...</td>\n",
       "      <td>...</td>\n",
       "      <td>...</td>\n",
       "      <td>...</td>\n",
       "    </tr>\n",
       "    <tr>\n",
       "      <th>1629344</th>\n",
       "      <td>7879</td>\n",
       "      <td>25.697962</td>\n",
       "      <td>-100.287476</td>\n",
       "      <td>1629756590</td>\n",
       "      <td>2021-08-23 22:09:50</td>\n",
       "      <td>[-100.287476, 25.697962]</td>\n",
       "      <td>23</td>\n",
       "    </tr>\n",
       "    <tr>\n",
       "      <th>1629345</th>\n",
       "      <td>7879</td>\n",
       "      <td>25.713190</td>\n",
       "      <td>-100.271860</td>\n",
       "      <td>1629592179</td>\n",
       "      <td>2021-08-22 00:29:39</td>\n",
       "      <td>[-100.27186, 25.71319]</td>\n",
       "      <td>22</td>\n",
       "    </tr>\n",
       "    <tr>\n",
       "      <th>1629346</th>\n",
       "      <td>7879</td>\n",
       "      <td>25.713196</td>\n",
       "      <td>-100.271835</td>\n",
       "      <td>1629592184</td>\n",
       "      <td>2021-08-22 00:29:44</td>\n",
       "      <td>[-100.271835, 25.713196]</td>\n",
       "      <td>22</td>\n",
       "    </tr>\n",
       "    <tr>\n",
       "      <th>1629347</th>\n",
       "      <td>7879</td>\n",
       "      <td>25.713190</td>\n",
       "      <td>-100.271850</td>\n",
       "      <td>1629592170</td>\n",
       "      <td>2021-08-22 00:29:30</td>\n",
       "      <td>[-100.27185, 25.71319]</td>\n",
       "      <td>22</td>\n",
       "    </tr>\n",
       "    <tr>\n",
       "      <th>1629348</th>\n",
       "      <td>7879</td>\n",
       "      <td>25.692953</td>\n",
       "      <td>-100.271065</td>\n",
       "      <td>1629674973</td>\n",
       "      <td>2021-08-22 23:29:33</td>\n",
       "      <td>[-100.271065, 25.692953]</td>\n",
       "      <td>22</td>\n",
       "    </tr>\n",
       "  </tbody>\n",
       "</table>\n",
       "<p>1629349 rows × 7 columns</p>\n",
       "</div>"
      ],
      "text/plain": [
       "         agent_id   latitude   longitude  utc_timestamp            datetime  \\\n",
       "0               1  25.688278 -100.321875     1628755047 2021-08-12 07:57:27   \n",
       "1               1  25.688347 -100.321910     1628768277 2021-08-12 11:37:57   \n",
       "2               1  25.688387 -100.321768     1628834712 2021-08-13 06:05:12   \n",
       "3               1  25.688270 -100.321780     1628774508 2021-08-12 13:21:48   \n",
       "4               1  25.688337 -100.321895     1628754000 2021-08-12 07:40:00   \n",
       "...           ...        ...         ...            ...                 ...   \n",
       "1629344      7879  25.697962 -100.287476     1629756590 2021-08-23 22:09:50   \n",
       "1629345      7879  25.713190 -100.271860     1629592179 2021-08-22 00:29:39   \n",
       "1629346      7879  25.713196 -100.271835     1629592184 2021-08-22 00:29:44   \n",
       "1629347      7879  25.713190 -100.271850     1629592170 2021-08-22 00:29:30   \n",
       "1629348      7879  25.692953 -100.271065     1629674973 2021-08-22 23:29:33   \n",
       "\n",
       "                      coordinates  day  \n",
       "0        [-100.321875, 25.688278]   12  \n",
       "1         [-100.32191, 25.688347]   12  \n",
       "2        [-100.321768, 25.688387]   13  \n",
       "3          [-100.32178, 25.68827]   12  \n",
       "4        [-100.321895, 25.688337]   12  \n",
       "...                           ...  ...  \n",
       "1629344  [-100.287476, 25.697962]   23  \n",
       "1629345    [-100.27186, 25.71319]   22  \n",
       "1629346  [-100.271835, 25.713196]   22  \n",
       "1629347    [-100.27185, 25.71319]   22  \n",
       "1629348  [-100.271065, 25.692953]   22  \n",
       "\n",
       "[1629349 rows x 7 columns]"
      ]
     },
     "execution_count": 4,
     "metadata": {},
     "output_type": "execute_result"
    }
   ],
   "source": [
    "df"
   ]
  },
  {
   "cell_type": "markdown",
   "metadata": {},
   "source": [
    "\n",
    "El performance del equipo presenta un limitante por lo que elegiremos 100 de los agent_ids con más puntos durante el día con más puntos del dataset. Para ello tenemos que el día 13 cuenta con 167745 puntos:"
   ]
  },
  {
   "cell_type": "code",
   "execution_count": 5,
   "metadata": {},
   "outputs": [
    {
     "data": {
      "text/plain": [
       "13    167745\n",
       "21    155024\n",
       "12    154339\n",
       "20    147745\n",
       "14    142778\n",
       "22    135100\n",
       "19    129399\n",
       "15    129123\n",
       "16    118849\n",
       "18    109209\n",
       "17     99608\n",
       "23     92429\n",
       "24     30775\n",
       "11     10562\n",
       "25      6664\n",
       "Name: day, dtype: int64"
      ]
     },
     "execution_count": 5,
     "metadata": {},
     "output_type": "execute_result"
    }
   ],
   "source": [
    "df.day.value_counts()"
   ]
  },
  {
   "cell_type": "code",
   "execution_count": 6,
   "metadata": {},
   "outputs": [],
   "source": [
    "df = df[df.day == 13]"
   ]
  },
  {
   "cell_type": "markdown",
   "metadata": {},
   "source": [
    "En promedio tenemos ~3773 puntos por agent_id"
   ]
  },
  {
   "cell_type": "code",
   "execution_count": 7,
   "metadata": {},
   "outputs": [
    {
     "data": {
      "text/plain": [
       "445"
      ]
     },
     "execution_count": 7,
     "metadata": {},
     "output_type": "execute_result"
    }
   ],
   "source": [
    "sum(df.agent_id.value_counts()[0:100])//100"
   ]
  },
  {
   "cell_type": "code",
   "execution_count": 8,
   "metadata": {},
   "outputs": [
    {
     "data": {
      "text/plain": [
       "1       1415\n",
       "1545    1323\n",
       "788     1224\n",
       "3916     912\n",
       "62       892\n",
       "        ... \n",
       "1456     272\n",
       "2527     271\n",
       "3421     270\n",
       "2605     270\n",
       "720      270\n",
       "Name: agent_id, Length: 100, dtype: int64"
      ]
     },
     "execution_count": 8,
     "metadata": {},
     "output_type": "execute_result"
    }
   ],
   "source": [
    "df.agent_id.value_counts()[0:100]"
   ]
  },
  {
   "cell_type": "code",
   "execution_count": 9,
   "metadata": {},
   "outputs": [],
   "source": [
    "df = df[df.agent_id.isin(df.agent_id.value_counts()[0:100].index)]"
   ]
  },
  {
   "cell_type": "markdown",
   "metadata": {},
   "source": [
    "Si bien se creó una variable legible del tiempo en los pasos anteriores, se usará el timestamp para la animación debido a que es más fácil realizar los incrementos sobre los valores enteros. Para el rango tenemos:"
   ]
  },
  {
   "cell_type": "code",
   "execution_count": 10,
   "metadata": {},
   "outputs": [
    {
     "data": {
      "text/plain": [
       "1628812800"
      ]
     },
     "execution_count": 10,
     "metadata": {},
     "output_type": "execute_result"
    }
   ],
   "source": [
    "df.utc_timestamp.min()"
   ]
  },
  {
   "cell_type": "code",
   "execution_count": 11,
   "metadata": {},
   "outputs": [
    {
     "data": {
      "text/plain": [
       "1628899199"
      ]
     },
     "execution_count": 11,
     "metadata": {},
     "output_type": "execute_result"
    }
   ],
   "source": [
    "df.utc_timestamp.max()"
   ]
  },
  {
   "cell_type": "markdown",
   "metadata": {},
   "source": [
    "La capa de trayectoria de deck.gl usa un formato especifico, donde los puntos que forman un \"path\" deben de estar en un arreglo de las mismas dimensiones que las muestras de tiempo. Siguiendo la documentación [de la capa](https://deckgl.readthedocs.io/en/latest/gallery/trips_layer.html) se creo un dataframe para los 100 agent_ids con esas características"
   ]
  },
  {
   "cell_type": "code",
   "execution_count": 12,
   "metadata": {
    "scrolled": true
   },
   "outputs": [],
   "source": [
    "data = []\n",
    "for aid in df.agent_id.unique():\n",
    "    temp = df[df.agent_id == aid].sort_values(by = 'utc_timestamp')\n",
    "    data.append({'agent_id': aid, 'path':temp.coordinates.to_list(), 'time':temp.utc_timestamp.to_list(), 'color':[228, 87, 86]})"
   ]
  },
  {
   "cell_type": "code",
   "execution_count": 13,
   "metadata": {},
   "outputs": [],
   "source": [
    "df2 = pd.DataFrame.from_dict(data)"
   ]
  },
  {
   "cell_type": "code",
   "execution_count": 14,
   "metadata": {},
   "outputs": [
    {
     "data": {
      "text/html": [
       "<div>\n",
       "<style scoped>\n",
       "    .dataframe tbody tr th:only-of-type {\n",
       "        vertical-align: middle;\n",
       "    }\n",
       "\n",
       "    .dataframe tbody tr th {\n",
       "        vertical-align: top;\n",
       "    }\n",
       "\n",
       "    .dataframe thead th {\n",
       "        text-align: right;\n",
       "    }\n",
       "</style>\n",
       "<table border=\"1\" class=\"dataframe\">\n",
       "  <thead>\n",
       "    <tr style=\"text-align: right;\">\n",
       "      <th></th>\n",
       "      <th>agent_id</th>\n",
       "      <th>path</th>\n",
       "      <th>time</th>\n",
       "      <th>color</th>\n",
       "    </tr>\n",
       "  </thead>\n",
       "  <tbody>\n",
       "    <tr>\n",
       "      <th>0</th>\n",
       "      <td>1</td>\n",
       "      <td>[[-100.32183, 25.68835], [-100.321813, 25.6883...</td>\n",
       "      <td>[1628813226, 1628813276, 1628813276, 162881327...</td>\n",
       "      <td>[228, 87, 86]</td>\n",
       "    </tr>\n",
       "    <tr>\n",
       "      <th>1</th>\n",
       "      <td>105</td>\n",
       "      <td>[[-100.071528, 25.648474], [-100.07149, 25.648...</td>\n",
       "      <td>[1628813133, 1628814305, 1628814305, 162881435...</td>\n",
       "      <td>[228, 87, 86]</td>\n",
       "    </tr>\n",
       "    <tr>\n",
       "      <th>2</th>\n",
       "      <td>145</td>\n",
       "      <td>[[-100.20466, 25.73743], [-100.20468, 25.73743...</td>\n",
       "      <td>[1628812929, 1628812929, 1628812932, 162881293...</td>\n",
       "      <td>[228, 87, 86]</td>\n",
       "    </tr>\n",
       "    <tr>\n",
       "      <th>3</th>\n",
       "      <td>347</td>\n",
       "      <td>[[-100.25387, 25.79466], [-100.25387, 25.79465...</td>\n",
       "      <td>[1628847852, 1628847852, 1628847852, 162884786...</td>\n",
       "      <td>[228, 87, 86]</td>\n",
       "    </tr>\n",
       "    <tr>\n",
       "      <th>4</th>\n",
       "      <td>601</td>\n",
       "      <td>[[-100.265293, 25.587966], [-100.26151, 25.589...</td>\n",
       "      <td>[1628814421, 1628814436, 1628814436, 162881444...</td>\n",
       "      <td>[228, 87, 86]</td>\n",
       "    </tr>\n",
       "    <tr>\n",
       "      <th>...</th>\n",
       "      <td>...</td>\n",
       "      <td>...</td>\n",
       "      <td>...</td>\n",
       "      <td>...</td>\n",
       "    </tr>\n",
       "    <tr>\n",
       "      <th>95</th>\n",
       "      <td>1925</td>\n",
       "      <td>[[-100.63622, 23.65195], [-100.63621, 23.65196...</td>\n",
       "      <td>[1628815756, 1628815766, 1628816463, 162881651...</td>\n",
       "      <td>[228, 87, 86]</td>\n",
       "    </tr>\n",
       "    <tr>\n",
       "      <th>96</th>\n",
       "      <td>187</td>\n",
       "      <td>[[-100.50555, 25.68698], [-100.50556, 25.68697...</td>\n",
       "      <td>[1628812811, 1628812822, 1628812932, 162881294...</td>\n",
       "      <td>[228, 87, 86]</td>\n",
       "    </tr>\n",
       "    <tr>\n",
       "      <th>97</th>\n",
       "      <td>2423</td>\n",
       "      <td>[[-100.346326, 25.65811], [-100.34628, 25.6580...</td>\n",
       "      <td>[1628813047, 1628813055, 1628813060, 162881310...</td>\n",
       "      <td>[228, 87, 86]</td>\n",
       "    </tr>\n",
       "    <tr>\n",
       "      <th>98</th>\n",
       "      <td>4015</td>\n",
       "      <td>[[-100.35206, 25.75612], [-100.35205, 25.75611...</td>\n",
       "      <td>[1628812806, 1628812806, 1628812856, 162881285...</td>\n",
       "      <td>[228, 87, 86]</td>\n",
       "    </tr>\n",
       "    <tr>\n",
       "      <th>99</th>\n",
       "      <td>2605</td>\n",
       "      <td>[[-100.45783, 25.70586], [-100.45785, 25.70585...</td>\n",
       "      <td>[1628817693, 1628817693, 1628817704, 162881770...</td>\n",
       "      <td>[228, 87, 86]</td>\n",
       "    </tr>\n",
       "  </tbody>\n",
       "</table>\n",
       "<p>100 rows × 4 columns</p>\n",
       "</div>"
      ],
      "text/plain": [
       "    agent_id                                               path  \\\n",
       "0          1  [[-100.32183, 25.68835], [-100.321813, 25.6883...   \n",
       "1        105  [[-100.071528, 25.648474], [-100.07149, 25.648...   \n",
       "2        145  [[-100.20466, 25.73743], [-100.20468, 25.73743...   \n",
       "3        347  [[-100.25387, 25.79466], [-100.25387, 25.79465...   \n",
       "4        601  [[-100.265293, 25.587966], [-100.26151, 25.589...   \n",
       "..       ...                                                ...   \n",
       "95      1925  [[-100.63622, 23.65195], [-100.63621, 23.65196...   \n",
       "96       187  [[-100.50555, 25.68698], [-100.50556, 25.68697...   \n",
       "97      2423  [[-100.346326, 25.65811], [-100.34628, 25.6580...   \n",
       "98      4015  [[-100.35206, 25.75612], [-100.35205, 25.75611...   \n",
       "99      2605  [[-100.45783, 25.70586], [-100.45785, 25.70585...   \n",
       "\n",
       "                                                 time          color  \n",
       "0   [1628813226, 1628813276, 1628813276, 162881327...  [228, 87, 86]  \n",
       "1   [1628813133, 1628814305, 1628814305, 162881435...  [228, 87, 86]  \n",
       "2   [1628812929, 1628812929, 1628812932, 162881293...  [228, 87, 86]  \n",
       "3   [1628847852, 1628847852, 1628847852, 162884786...  [228, 87, 86]  \n",
       "4   [1628814421, 1628814436, 1628814436, 162881444...  [228, 87, 86]  \n",
       "..                                                ...            ...  \n",
       "95  [1628815756, 1628815766, 1628816463, 162881651...  [228, 87, 86]  \n",
       "96  [1628812811, 1628812822, 1628812932, 162881294...  [228, 87, 86]  \n",
       "97  [1628813047, 1628813055, 1628813060, 162881310...  [228, 87, 86]  \n",
       "98  [1628812806, 1628812806, 1628812856, 162881285...  [228, 87, 86]  \n",
       "99  [1628817693, 1628817693, 1628817704, 162881770...  [228, 87, 86]  \n",
       "\n",
       "[100 rows x 4 columns]"
      ]
     },
     "execution_count": 14,
     "metadata": {},
     "output_type": "execute_result"
    }
   ],
   "source": [
    "df2"
   ]
  },
  {
   "cell_type": "markdown",
   "metadata": {},
   "source": [
    "### Trips layer\n",
    "\n",
    "El trips layer es una representación gráfica de un viaje. La capa toma el punto inicial y, de acuerdo a un arreglo de unidades temporales ordenado, va dibujando una línea que se desvanece. Entonces, en el momento dado el punto en t está en un color más sólido que los puntos en t-1, t-2.. , t-n. El parametro de esta \"cola\" se llama trail_length.\n",
    "\n",
    "La capa puede ser renderizada de manera \"estática\" (el mapa aún puede moverse) o si se ajusta el parámetro de current time puede animarse.\n",
    "\n",
    "En el contexto de pydeck (los bindings de deck.gl usados para el proyecto) una visualización está conformado por tres puntos: \n",
    "* Un objeto view (o ViewState) que representa la vista inicial del mapa y no puede ser actualizado.\n",
    "* Una serie de capas. Véase: [este link](https://deckgl.readthedocs.io/en/latest/index.html) para mayor información\n",
    "* Un objeto deck que junta todos estos. Este objeto puede ser renderizado a html o ejecutado como un widget de jupyter. \n",
    "\n",
    "Este último punto es la razón por la cuál el proyecto está siendo entregado por este medio. Las capas dentro de un jupyter widget si pueden ser actualizadas permitiendo animarlas."
   ]
  },
  {
   "cell_type": "code",
   "execution_count": 18,
   "metadata": {},
   "outputs": [],
   "source": [
    "view = {\"bearing\": 0, \"latitude\": 25.66861111,  \"longitude\":-100.30972222, \"pitch\": 0, \"zoom\": 11}\n",
    "\n",
    "time_min = df.utc_timestamp.min()-200\n",
    "time_max = df.utc_timestamp.max()+200\n",
    "\n",
    "layer = pdk.Layer(\n",
    "    \"TripsLayer\",\n",
    "    df2,\n",
    "    get_path='path',\n",
    "    get_timestamps='time',\n",
    "    get_color='color',\n",
    "    opacity=0.9,\n",
    "    width_min_pixels=3,\n",
    "    rounded=True,\n",
    "    trail_length=800,\n",
    "    current_time=0\n",
    ")\n",
    "\n",
    "# Render\n",
    "r = pdk.Deck(layers=[layer], initial_view_state=view, map_style='road', height = 650)"
   ]
  },
  {
   "cell_type": "code",
   "execution_count": 19,
   "metadata": {},
   "outputs": [],
   "source": [
    "def getReadableTime(utc):\n",
    "    return(datetime.datetime.utcfromtimestamp(utc).strftime('%d-%b || %H:%M:%S'))"
   ]
  },
  {
   "cell_type": "markdown",
   "metadata": {},
   "source": [
    "Para la visualización se usaron 3 widgets de jupyter que proveen de interactividad:\n",
    "* Un slider que permite ajustar la ventana de tiempo deseada\n",
    "* Un botón de play que \"reproduce\" la animación del movimiento de los puntos\n",
    "* Un cuadro de texto que muestra el tiempo en formato normal. "
   ]
  },
  {
   "cell_type": "code",
   "execution_count": 20,
   "metadata": {},
   "outputs": [
    {
     "data": {
      "application/vnd.jupyter.widget-view+json": {
       "model_id": "c21c5d356a934ed1a119c8703e07c6c5",
       "version_major": 2,
       "version_minor": 0
      },
      "text/plain": [
       "VBox(children=(HTML(value='12-Aug || 23:56:40', description='<b>Time</b>', layout=Layout(width='100%')), HBox(…"
      ]
     },
     "metadata": {},
     "output_type": "display_data"
    },
    {
     "data": {
      "application/vnd.jupyter.widget-view+json": {
       "model_id": "99e335b110d14913b0a9bd5d906f0952",
       "version_major": 2,
       "version_minor": 0
      },
      "text/plain": [
       "Output()"
      ]
     },
     "metadata": {},
     "output_type": "display_data"
    },
    {
     "data": {
      "application/vnd.jupyter.widget-view+json": {
       "model_id": "82e084da52494691b8b9ebc775043b78",
       "version_major": 2,
       "version_minor": 0
      },
      "text/plain": [
       "DeckGLWidget(carto_key=None, custom_libraries=[], google_maps_key=None, height=650, json_input='{\"initialViewS…"
      ]
     },
     "metadata": {},
     "output_type": "display_data"
    }
   ],
   "source": [
    "slider = IntSlider(value=time_min, min=time_min, max=time_max, step=50)\n",
    "play = Play(value=time_min, min=time_min, max=time_max, step=250, description='Mostrar viajes', interval=250)\n",
    "text = HTML(description = \"<b>Time</b>\", value = getReadableTime(time_min), layout = Layout(width = '100%'))\n",
    "jslink((play, 'value'), (slider, 'value'))\n",
    "hbox = HBox([play,slider],layout = Layout(width = '100%'))\n",
    "layout = VBox([text,hbox])\n",
    "\n",
    "# function\n",
    "def update_plot(utc):\n",
    "    layer.current_time = utc\n",
    "    text.value = getReadableTime(utc)\n",
    "    return r.update()\n",
    "    \n",
    "\n",
    "# interaction between widget and function\n",
    "interact = interactive_output(update_plot, {'utc': slider})\n",
    "display(layout, interact)\n",
    "r.show()"
   ]
  },
  {
   "cell_type": "markdown",
   "metadata": {},
   "source": [
    "### Conclusiones\n",
    "\n",
    "Este proyecto me sirvió para entender como implementar bajo condiciones limitadas algún tipo de animación. Originalmente pensaba realizar el proyecto en react+javascript donde la librería de deck.gl tiene más funcionalidades. Pero al final por cuestiones de tiempo opté por usar los bindings para python. Esto me limitaba a desarrollar algo dentro del entorno de jupyter pero usando unos trucos con los widgets para crear callbacks y entendiendo la animación como un cambio en términos del tiempo de una serie de puntos pude logra desarrollar la visualización. Me hubiera gustado probarlo en un entorno con GPU para visualizar los 3700 identificadores únicos. Creo que hubiera sido más atractivo visualmente. Trataré de implementarlo en los siguientes días en react esperando mejorar el rendimiento; en esta iteración hay demasiadas capaz de por medio => deck - mapbox - jupyter - python.\n",
    "\n",
    "También resta la pregunta si este tipo de tareas no se pudiera beneficiar de paralelismo implementado a manera de futuros en python dado que no todos los puntos se deben de dibujar de manera simultanea, podrían usarse hilos y no bloquear el intérprete. "
   ]
  },
  {
   "cell_type": "code",
   "execution_count": null,
   "metadata": {},
   "outputs": [],
   "source": []
  }
 ],
 "metadata": {
  "interpreter": {
   "hash": "e534e48711db4d1e1c48977d0d14ff85b1f16d41bcc4fdfd88268a329b3c9d66"
  },
  "kernelspec": {
   "display_name": "Python 3",
   "language": "python",
   "name": "python3"
  },
  "language_info": {
   "codemirror_mode": {
    "name": "ipython",
    "version": 3
   },
   "file_extension": ".py",
   "mimetype": "text/x-python",
   "name": "python",
   "nbconvert_exporter": "python",
   "pygments_lexer": "ipython3",
   "version": "3.7.2"
  }
 },
 "nbformat": 4,
 "nbformat_minor": 2
}
